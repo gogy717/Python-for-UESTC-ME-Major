{
 "cells": [
  {
   "cell_type": "code",
   "execution_count": 55,
   "metadata": {},
   "outputs": [],
   "source": [
    "import cv2\n",
    "import numpy as np\n",
    "import matplotlib.pyplot as plt\n",
    "import pandas as pd\n",
    "from collections import deque"
   ]
  },
  {
   "cell_type": "code",
   "execution_count": 56,
   "metadata": {},
   "outputs": [],
   "source": [
    "def get_image(image_path: str) -> np.ndarray:\n",
    "    image = cv2.imread(image_path)\n",
    "    image = cv2.cvtColor(image, cv2.COLOR_BGR2RGB)\n",
    "    image = cv2.resize(image, (640, 480))\n",
    "    image = cv2.GaussianBlur(image, (5, 5), 0)\n",
    "    return image\n",
    "\n",
    "\n",
    "def get_gray(image: np.ndarray) -> np.ndarray:\n",
    "    gray = cv2.cvtColor(image, cv2.COLOR_RGB2GRAY)\n",
    "    return gray\n",
    "\n",
    "\n",
    "def get_skeleton(gray: np.ndarray) -> np.ndarray:\n",
    "    gray = cv2.equalizeHist(gray)\n",
    "    # 转换为二值图像\n",
    "    binary = cv2.adaptiveThreshold(gray, 255, cv2.ADAPTIVE_THRESH_GAUSSIAN_C, \n",
    "                                cv2.THRESH_BINARY_INV, 11, 2)\n",
    "    binary = cv2.dilate(binary, kernel=np.ones((3, 3), np.uint8), iterations=5)\n",
    "    plt.imshow(binary, cmap='gray')\n",
    "    plt.show()\n",
    "    \n",
    "    # 二值图像的是否全空\n",
    "    if cv2.countNonZero(binary) == 0:\n",
    "        print('二值图像全空')\n",
    "\n",
    "    # 细化图像，找到骨架\n",
    "    skeleton = cv2.ximgproc.thinning(binary, thinningType=cv2.ximgproc.THINNING_ZHANGSUEN)\n",
    "    return skeleton\n",
    "\n",
    "def skeleton_endpoints(skel: np.ndarray) -> np.ndarray:\n",
    "    \"\"\"\n",
    "    Finds the endpoints in a skeleton image.\n",
    "\n",
    "    Parameters:\n",
    "    skel (ndarray): The input skeleton image.\n",
    "\n",
    "    Returns:\n",
    "    ndarray: An array containing the coordinates of the endpoints.\n",
    "    \"\"\"\n",
    "    # Rest of the code...\n",
    "    # Make our input nice, possibly necessary.\n",
    "    skel = skel.copy()\n",
    "    skel[skel!=0] = 1\n",
    "    skel = np.uint8(skel)\n",
    "\n",
    "    # Apply the convolution.\n",
    "    kernel = np.uint8([[1,  1, 1],\n",
    "                       [1, 10, 1],\n",
    "                       [1,  1, 1]])\n",
    "    src_depth = -1\n",
    "    filtered = cv2.filter2D(skel,src_depth,kernel)\n",
    "\n",
    "    # Look through to find the value of 11.\n",
    "    # This returns a mask of the endpoints, but if you\n",
    "    # just want the coordinates, you could simply\n",
    "    # return np.where(filtered==11)\n",
    "    out = np.zeros_like(skel)\n",
    "    out[np.where(filtered==11)] = 1\n",
    "    out = np.argwhere(out > 0)\n",
    "    return out\n",
    "\n",
    "# BFS 寻找路径函数\n",
    "def bfs(skeleton: np.ndarray, start: tuple, end: tuple) -> list:\n",
    "    \"\"\"\n",
    "    Perform breadth-first search (BFS) algorithm to find the shortest path from the start point to the end point in a skeleton.\n",
    "    Parameters:\n",
    "    - skeleton (numpy.ndarray): The skeleton image represented as a 2D numpy array.\n",
    "    - start (tuple): The starting point coordinates (x, y) in the skeleton.\n",
    "    - end (tuple): The ending point coordinates (x, y) in the skeleton.\n",
    "    Returns:\n",
    "    - list: The shortest path from the start point to the end point as a list of coordinates [(x1, y1), (x2, y2), ...].\n",
    "           If no path is found, an empty list is returned.\n",
    "    \"\"\"\n",
    "    # 定义 8 邻域\n",
    "    directions = [(-1, 0), (1, 0), (0, -1), (0, 1), (-1, -1), (-1, 1), (1, -1), (1, 1)]\n",
    "    \n",
    "    # 队列初始化，存储当前位置和路径\n",
    "    queue = deque([(start, [start])])\n",
    "    \n",
    "    # 访问过的节点\n",
    "    visited = np.zeros(skeleton.shape, dtype=np.uint8)\n",
    "    visited[start] = 1\n",
    "    \n",
    "    while queue:\n",
    "        (x, y), path = queue.popleft()\n",
    "        \n",
    "        # 如果找到目标端点，返回路径\n",
    "        if (x, y) == end:\n",
    "            return path\n",
    "        \n",
    "        # 遍历 8 邻域\n",
    "        for dx, dy in directions:\n",
    "            nx, ny = x + dx, y + dy\n",
    "            # 确保新位置在图像范围内并且是骨架的一部分且未访问\n",
    "            if 0 <= nx < skeleton.shape[0] and 0 <= ny < skeleton.shape[1] and skeleton[nx, ny] == 255 and not visited[nx, ny]:\n",
    "                visited[nx, ny] = 1\n",
    "                queue.append(((nx, ny), path + [(nx, ny)]))  # 将路径延展\n",
    "    \n",
    "    # 如果无法到达，返回空路径\n",
    "    return []\n",
    "\n",
    "\n",
    "def get_path_derivative(path: list, step: int = 10) -> dict:\n",
    "    \"\"\"\n",
    "    Calculate the derivative of a path represented as a list of coordinates [(x1, y1), (x2, y2), ...].\n",
    "    \n",
    "    Parameters:\n",
    "    - path (list): The input path as a list of coordinates [(x1, y1), (x2, y2), ...].\n",
    "    - step (int): The step size for calculating the derivative (default: 10).\n",
    "    \n",
    "    Returns:\n",
    "    - dict: A dictionary where the keys are points from the path and the values are the calculated derivatives.\n",
    "    \"\"\"\n",
    "    # 提前检查路径点的数量是否足够进行拟合\n",
    "    if 2 * len(path) < 3:\n",
    "        raise ValueError(\"The path is too short for quadratic fitting (requires at least 3 points).\")\n",
    "\n",
    "    derivatives = {}\n",
    "    \n",
    "    for i in range(step, len(path), step):\n",
    "        # 处理边界问题，确保不会超出路径范围\n",
    "        start_idx = max(0, i - step)\n",
    "        end_idx = min(len(path), i + step)\n",
    "        \n",
    "        # 提取邻近点\n",
    "        x = np.array([p[0] for p in path[start_idx:end_idx]])\n",
    "        y = np.array([p[1] for p in path[start_idx:end_idx]])\n",
    "\n",
    "        # 使用二次多项式拟合\n",
    "        z = np.polyfit(x, y, 2)  # z[1] 是一次项的系数，即斜率\n",
    "        \n",
    "        # 对拟合的多项式求导：f'(x) = 2 * z[0] * x + z[1]\n",
    "        current_x = path[i][0]\n",
    "        slope = 2 * z[0] * current_x + z[1]\n",
    "        \n",
    "        # 存储当前点的斜率\n",
    "        derivatives[path[i]] = slope\n",
    "        \n",
    "    return derivatives\n",
    "        \n"
   ]
  },
  {
   "cell_type": "code",
   "execution_count": 57,
   "metadata": {},
   "outputs": [],
   "source": [
    "image = get_image('../images/line.jpg')\n",
    "# image = get_image('../images/bold_curve.png')\n",
    "# image = get_image('../images/branch.jpg')\n"
   ]
  },
  {
   "cell_type": "code",
   "execution_count": 59,
   "metadata": {},
   "outputs": [],
   "source": [
    "gray = get_gray(image)\n",
    "\n",
    "gray = cv2.GaussianBlur(gray, (5, 5), 0)\n",
    "\n"
   ]
  },
  {
   "cell_type": "code",
   "execution_count": 60,
   "metadata": {},
   "outputs": [],
   "source": [
    "skeleton = get_skeleton(gray)\n",
    "# skeleton = cv2.dilate(skeleton, kernel=np.ones((3, 3), np.uint8), iterations = 5)\n",
    "# skeleton = get_skeleton(skeleton)"
   ]
  },
  {
   "cell_type": "code",
   "execution_count": 61,
   "metadata": {},
   "outputs": [
    {
     "data": {
      "image/png": "[encoded data removed]",
      "text/plain": [
       "<Figure size 500x500 with 1 Axes>"
      ]
     },
     "metadata": {},
     "output_type": "display_data"
    }
   ],
   "source": [
    "plt.figure(figsize=(5,5))\n",
    "plt.imshow(skeleton, cmap='gray')\n",
    "# plt.axis('off')\n",
    "plt.show()\n"
   ]
  },
  {
   "cell_type": "code",
   "execution_count": 62,
   "metadata": {},
   "outputs": [],
   "source": [
    "skeleton_points = np.argwhere(skeleton == 255)\n"
   ]
  },
  {
   "cell_type": "code",
   "execution_count": 63,
   "metadata": {},
   "outputs": [],
   "source": [
    "end_points = skeleton_endpoints(skeleton)\n"
   ]
  },
  {
   "cell_type": "code",
   "execution_count": 64,
   "metadata": {},
   "outputs": [
    {
     "name": "stdout",
     "output_type": "stream",
     "text": [
      "[[254 434]\n",
      " [387 249]]\n"
     ]
    }
   ],
   "source": [
    "# end_point = np.argwhere(end_points == 1)\n",
    "print(end_points)"
   ]
  },
  {
   "cell_type": "code",
   "execution_count": 65,
   "metadata": {},
   "outputs": [
    {
     "data": {
      "image/png": "[encoded data removed]",
      "text/plain": [
       "<Figure size 500x500 with 1 Axes>"
      ]
     },
     "metadata": {},
     "output_type": "display_data"
    }
   ],
   "source": [
    "for point in end_points:\n",
    "    cv2.circle(image, tuple(point[::-1]), 3, (255, 0, 0), -1)\n",
    "    \n",
    "\n",
    "plt.figure(figsize=(5,5))\n",
    "plt.imshow(image)\n",
    "plt.show()"
   ]
  },
  {
   "cell_type": "code",
   "execution_count": 66,
   "metadata": {},
   "outputs": [
    {
     "name": "stdout",
     "output_type": "stream",
     "text": [
      "843\n"
     ]
    }
   ],
   "source": [
    "path = bfs(skeleton, tuple(end_points[0]), tuple(end_points[1]))\n",
    "print(len(path))\n",
    "\n",
    "# # 绘制路径\n",
    "# for j in range(1, len(path),10):\n",
    "#     cv2.circle(image, (path[j][1], path[j][0]), 1, (255, 0, 0), -1)\n",
    "\n",
    "# plt.figure(figsize=(5,5))\n",
    "# plt.imshow(image)\n",
    "# plt.show()\n"
   ]
  },
  {
   "cell_type": "code",
   "execution_count": 67,
   "metadata": {},
   "outputs": [
    {
     "name": "stdout",
     "output_type": "stream",
     "text": [
      "(220, 483) -0.9189880197056581\n",
      "(170, 502) -0.04365774032385206\n",
      "(120, 487) 0.7415005598343587\n",
      "(80, 440) 2.0343445022633846\n",
      "(61, 390) 4.191358790494304\n",
      "(52, 340) 13.914361507663443\n",
      "(51, 290) -17.28925245443277\n",
      "(59, 240) -4.451372987104222\n",
      "(78, 190) -2.0487026646454307\n",
      "(117, 140) -0.9939853920083392\n",
      "(167, 105) -0.4880762241890475\n",
      "(217, 90) -0.15077220086954646\n",
      "(267, 91) 0.19446263834066202\n",
      "(317, 110) 0.7134571567079497\n",
      "(361, 157) 1.8338469507084358\n",
      "(381, 207) 5.085298060636362\n"
     ]
    }
   ],
   "source": [
    "dirivative = get_path_derivative(path, step=50)\n",
    "\n",
    "for k, v in dirivative.items():\n",
    "    print(k, v)"
   ]
  },
  {
   "cell_type": "code",
   "execution_count": 68,
   "metadata": {},
   "outputs": [
    {
     "data": {
      "image/png": "[encoded data removed]",
      "text/plain": [
       "<Figure size 500x500 with 1 Axes>"
      ]
     },
     "metadata": {},
     "output_type": "display_data"
    }
   ],
   "source": [
    "# plot the derivative\n",
    "for point, deriv in dirivative.items():\n",
    "    deriv = np.arctan(deriv)\n",
    "    angle = np.degrees(deriv)\n",
    "    angle += 90\n",
    "    cv2.putText(image, f'{round(angle, 2)}', (point[1],point[0]), cv2.FONT_HERSHEY_SIMPLEX, 0.5, (255, 0, 0), 1, cv2.LINE_AA)\n",
    "    cv2.circle(image, (point[1],point[0]), 2, (0, 255, 0), -1)\n",
    "    \n",
    "plt.figure(figsize=(5,5))\n",
    "plt.imshow(image)\n",
    "plt.show()"
   ]
  },
  {
   "cell_type": "code",
   "execution_count": null,
   "metadata": {},
   "outputs": [],
   "source": []
  }
 ],
 "metadata": {
  "kernelspec": {
   "display_name": "base",
   "language": "python",
   "name": "python3"
  },
  "language_info": {
   "codemirror_mode": {
    "name": "ipython",
    "version": 3
   },
   "file_extension": ".py",
   "mimetype": "text/x-python",
   "name": "python",
   "nbconvert_exporter": "python",
   "pygments_lexer": "ipython3",
   "version": "3.11.5"
  }
 },
 "nbformat": 4,
 "nbformat_minor": 2
}
