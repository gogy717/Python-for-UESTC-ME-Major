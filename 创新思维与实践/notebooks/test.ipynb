{
 "cells": [
  {
   "cell_type": "markdown",
   "metadata": {},
   "source": []
  },
  {
   "cell_type": "code",
   "execution_count": 20,
   "metadata": {},
   "outputs": [],
   "source": [
    "# !pip install opencv-contrib-python"
   ]
  },
  {
   "cell_type": "code",
   "execution_count": 21,
   "metadata": {},
   "outputs": [],
   "source": [
    "import cv2\n",
    "import numpy as np\n",
    "import matplotlib.pyplot as plt\n",
    "import os\n"
   ]
  },
  {
   "cell_type": "code",
   "execution_count": 22,
   "metadata": {},
   "outputs": [],
   "source": [
    "# 读取图像\n",
    "# image_path = \"../images/bold_curve.png\"\n",
    "image_path = \"../images/line.jpg\"\n",
    "# image_path = \"../images/photo.jpg\"\n",
    "# dir_path = os.path.dirname(os.path.realpath(__file__))\n",
    "# image_path = os.path.join(dir_path, image_path)\n",
    "img = cv2.imread(image_path, cv2.IMREAD_GRAYSCALE)\n",
    "img = cv2.resize(img, (640, 480))"
   ]
  },
  {
   "cell_type": "code",
   "execution_count": 23,
   "metadata": {},
   "outputs": [
    {
     "name": "stdout",
     "output_type": "stream",
     "text": [
      "199696.4\n"
     ]
    },
    {
     "data": {
      "text/plain": [
       "(1137,)"
      ]
     },
     "execution_count": 23,
     "metadata": {},
     "output_type": "execute_result"
    }
   ],
   "source": [
    "# 预处理\n",
    "img = cv2.GaussianBlur(img, (5, 5), 0)\n",
    "\n",
    "gray = np.float32(img)\n",
    "\n",
    "dst = cv2.cornerHarris(gray, blockSize=2, ksize=3, k=0.04)\n",
    "\n",
    "# 扩展角点的标记\n",
    "dst = cv2.dilate(dst, None)\n",
    "\n",
    "# 将角点标记在原图像上\n",
    "print(dst.max())\n",
    "# save the corners position\n",
    "corners = np.where(dst > 0.01 * dst.max())\n",
    "\n",
    "corners[1].shape"
   ]
  },
  {
   "cell_type": "code",
   "execution_count": 24,
   "metadata": {},
   "outputs": [
    {
     "data": {
      "image/png": "[encoded data removed]",
      "text/plain": [
       "<Figure size 1000x500 with 2 Axes>"
      ]
     },
     "metadata": {},
     "output_type": "display_data"
    }
   ],
   "source": [
    "# 转换为二值图像\n",
    "_, binary = cv2.threshold(img, 127, 255, cv2.THRESH_BINARY_INV)\n",
    "\n",
    "# 细化图像，找到骨架\n",
    "skeleton = cv2.ximgproc.thinning(binary, thinningType=cv2.ximgproc.THINNING_ZHANGSUEN)\n",
    "\n",
    "# drop first and last column\n",
    "skeleton = skeleton[:, 1:-1]\n",
    "\n",
    "# 显示结果\n",
    "plt.figure(figsize=(10, 5))\n",
    "plt.subplot(1, 2, 1)\n",
    "plt.title('Original Binary Image')\n",
    "plt.imshow(binary, cmap='gray')\n",
    "\n",
    "plt.subplot(1, 2, 2)\n",
    "plt.title('Skeleton')\n",
    "plt.imshow(skeleton, cmap='gray')\n",
    "plt.show()"
   ]
  },
  {
   "cell_type": "code",
   "execution_count": 25,
   "metadata": {},
   "outputs": [
    {
     "data": {
      "text/plain": [
       "array([[0, 0, 0, ..., 0, 0, 0],\n",
       "       [0, 0, 0, ..., 0, 0, 0],\n",
       "       [0, 0, 0, ..., 0, 0, 0],\n",
       "       ...,\n",
       "       [0, 0, 0, ..., 0, 0, 0],\n",
       "       [0, 0, 0, ..., 0, 0, 0],\n",
       "       [0, 0, 0, ..., 0, 0, 0]], dtype=uint8)"
      ]
     },
     "execution_count": 25,
     "metadata": {},
     "output_type": "execute_result"
    }
   ],
   "source": [
    "skeleton"
   ]
  },
  {
   "cell_type": "code",
   "execution_count": 26,
   "metadata": {},
   "outputs": [
    {
     "data": {
      "image/png": "[encoded data removed]",
      "text/plain": [
       "<Figure size 640x480 with 1 Axes>"
      ]
     },
     "metadata": {},
     "output_type": "display_data"
    }
   ],
   "source": [
    "# find Harris corners\n",
    "gray = np.float32(skeleton)\n",
    "dst = cv2.cornerHarris(gray, 13, 9, 0.2)\n",
    "dst = cv2.dilate(dst, None)\n",
    "ret, dst = cv2.threshold(dst, 0.01 * dst.max(), 255, 0)\n",
    "dst = np.uint8(dst)\n",
    "\n",
    "# display corners\n",
    "plt.imshow(dst, cmap=\"gray\")\n",
    "plt.show()\n",
    "\n",
    "for i in range(dst.shape[0]):\n",
    "    for j in range(dst.shape[1]):\n",
    "        if dst[i, j] > 0:\n",
    "            print(i, j)\n",
    "            "
   ]
  },
  {
   "cell_type": "code",
   "execution_count": 27,
   "metadata": {},
   "outputs": [],
   "source": [
    "traversal = np.array([[0, 1], [1, 0], [0, -1], [-1, 0], [1, 1], [1, -1], [-1, 1], [-1, -1]])\n",
    "def get_neighbors(skeleton, x, y):\n",
    "    neighbors = []\n",
    "    for i in range(4):\n",
    "        nx, ny = x + traversal[i][0], y + traversal[i][1]\n",
    "        if nx >= 0 and nx < skeleton.shape[0] and ny >= 0 and ny < skeleton.shape[1]:\n",
    "            neighbors.append((nx, ny))\n",
    "    return neighbors\n",
    "\n"
   ]
  },
  {
   "cell_type": "code",
   "execution_count": 28,
   "metadata": {},
   "outputs": [],
   "source": [
    "def get_all_points(skeleton):\n",
    "    points = []\n",
    "    for i in range(skeleton.shape[0]):\n",
    "        for j in range(skeleton.shape[1]):\n",
    "            if skeleton[i, j] == 255:\n",
    "                points.append((i, j))\n",
    "    return points\n",
    "\n",
    "def get_end_points(skeleton):\n",
    "    points = []\n",
    "    for i in range(skeleton.shape[0]):\n",
    "        for j in range(skeleton.shape[1]):\n",
    "            if skeleton[i, j] == 255:\n",
    "                neighbors = get_neighbors(skeleton, i, j)\n",
    "                if len(neighbors) == 1:\n",
    "                    points.append((i, j))\n",
    "    return points"
   ]
  },
  {
   "cell_type": "code",
   "execution_count": 29,
   "metadata": {},
   "outputs": [],
   "source": [
    "end_points = get_end_points(skeleton)\n",
    "points = get_all_points(skeleton)"
   ]
  },
  {
   "cell_type": "code",
   "execution_count": 30,
   "metadata": {},
   "outputs": [
    {
     "data": {
      "image/png": "[encoded data removed]",
      "text/plain": [
       "<Figure size 500x500 with 1 Axes>"
      ]
     },
     "metadata": {},
     "output_type": "display_data"
    }
   ],
   "source": [
    "# draw endpoints\n",
    "\n",
    "    \n",
    "plt.figure(figsize=(5, 5))\n",
    "plt.title('Endpoints')\n",
    "plt.imshow(skeleton, cmap='gray')\n",
    "plt.scatter([p[1] for p in end_points], [p[0] for p in end_points], c='r', s=10)\n",
    "plt.show()"
   ]
  },
  {
   "cell_type": "code",
   "execution_count": 31,
   "metadata": {},
   "outputs": [],
   "source": [
    "# print(\"End points0:\", end_points[0])\n",
    "# print(\"End points_last:\", end_points[-1])\n",
    "# end_points = [end_points[0], end_points[-1]]"
   ]
  },
  {
   "cell_type": "code",
   "execution_count": 32,
   "metadata": {},
   "outputs": [
    {
     "data": {
      "text/plain": [
       "(480, 640)"
      ]
     },
     "execution_count": 32,
     "metadata": {},
     "output_type": "execute_result"
    }
   ],
   "source": [
    "img.shape"
   ]
  },
  {
   "cell_type": "code",
   "execution_count": 33,
   "metadata": {},
   "outputs": [
    {
     "name": "stdout",
     "output_type": "stream",
     "text": [
      "Density: 37\n"
     ]
    },
    {
     "ename": "IndexError",
     "evalue": "list index out of range",
     "output_type": "error",
     "traceback": [
      "\u001b[0;31m---------------------------------------------------------------------------\u001b[0m",
      "\u001b[0;31mIndexError\u001b[0m                                Traceback (most recent call last)",
      "Cell \u001b[0;32mIn[33], line 14\u001b[0m\n\u001b[1;32m     11\u001b[0m             last_point \u001b[38;5;241m=\u001b[39m points[i]\n\u001b[1;32m     12\u001b[0m     \u001b[38;5;28;01mreturn\u001b[39;00m target_points\n\u001b[0;32m---> 14\u001b[0m target_points \u001b[38;5;241m=\u001b[39m \u001b[43mget_target_points\u001b[49m\u001b[43m(\u001b[49m\u001b[43mpoints\u001b[49m\u001b[43m,\u001b[49m\u001b[43m \u001b[49m\u001b[43mDENSITY\u001b[49m\u001b[43m)\u001b[49m\n\u001b[1;32m     16\u001b[0m \u001b[38;5;28mprint\u001b[39m(\u001b[38;5;124m\"\u001b[39m\u001b[38;5;124mTarget points:\u001b[39m\u001b[38;5;124m\"\u001b[39m, target_points[:\u001b[38;5;241m5\u001b[39m], \u001b[38;5;124m\"\u001b[39m\u001b[38;5;124m...\u001b[39m\u001b[38;5;124m\"\u001b[39m)\n\u001b[1;32m     18\u001b[0m \u001b[38;5;66;03m# draw target points\u001b[39;00m\n",
      "Cell \u001b[0;32mIn[33], line 6\u001b[0m, in \u001b[0;36mget_target_points\u001b[0;34m(points, density)\u001b[0m\n\u001b[1;32m      4\u001b[0m \u001b[38;5;28;01mdef\u001b[39;00m \u001b[38;5;21mget_target_points\u001b[39m(points, density):\n\u001b[1;32m      5\u001b[0m     points \u001b[38;5;241m=\u001b[39m \u001b[38;5;28msorted\u001b[39m(points, key\u001b[38;5;241m=\u001b[39m\u001b[38;5;28;01mlambda\u001b[39;00m x: x[\u001b[38;5;241m1\u001b[39m])\n\u001b[0;32m----> 6\u001b[0m     last_point \u001b[38;5;241m=\u001b[39m \u001b[43mpoints\u001b[49m\u001b[43m[\u001b[49m\u001b[38;5;241;43m0\u001b[39;49m\u001b[43m]\u001b[49m\n\u001b[1;32m      7\u001b[0m     target_points \u001b[38;5;241m=\u001b[39m [points[\u001b[38;5;241m0\u001b[39m]]\n\u001b[1;32m      8\u001b[0m     \u001b[38;5;28;01mfor\u001b[39;00m i \u001b[38;5;129;01min\u001b[39;00m \u001b[38;5;28mrange\u001b[39m(\u001b[38;5;241m1\u001b[39m, \u001b[38;5;28mlen\u001b[39m(points)):\n",
      "\u001b[0;31mIndexError\u001b[0m: list index out of range"
     ]
    }
   ],
   "source": [
    "DENSITY = (img.shape[0] + img.shape[1]) // 30\n",
    "print(\"Density:\", DENSITY)\n",
    "\n",
    "def get_target_points(points, density):\n",
    "    points = sorted(points, key=lambda x: x[1])\n",
    "    last_point = points[0]\n",
    "    target_points = [points[0]]\n",
    "    for i in range(1, len(points)):\n",
    "        if abs(points[i][1] - last_point[1]) + abs(points[i][0] - last_point[0]) >= density:\n",
    "            target_points.append(points[i])\n",
    "            last_point = points[i]\n",
    "    return target_points\n",
    "\n",
    "target_points = get_target_points(points, DENSITY)\n",
    "\n",
    "print(\"Target points:\", target_points[:5], \"...\")\n",
    "\n",
    "# draw target points\n",
    "plt.figure(figsize=(5, 5))\n",
    "plt.title('Target Points')\n",
    "plt.imshow(skeleton, cmap='gray')\n",
    "plt.scatter([p[1] for p in target_points], [p[0] for p in target_points], c='r', s=10)\n",
    "plt.show()\n"
   ]
  },
  {
   "cell_type": "code",
   "execution_count": null,
   "metadata": {},
   "outputs": [],
   "source": [
    "# sort target points by points[i][1]\n",
    "target_points = sorted(target_points, key=lambda x: x[1])\n"
   ]
  },
  {
   "cell_type": "code",
   "execution_count": null,
   "metadata": {},
   "outputs": [
    {
     "data": {
      "text/plain": [
       "12"
      ]
     },
     "execution_count": 17,
     "metadata": {},
     "output_type": "execute_result"
    }
   ],
   "source": [
    "img.shape[0] // 40"
   ]
  },
  {
   "cell_type": "code",
   "execution_count": null,
   "metadata": {},
   "outputs": [
    {
     "name": "stdout",
     "output_type": "stream",
     "text": [
      "端点:  []\n"
     ]
    }
   ],
   "source": [
    "import numpy as np\n",
    "from scipy.spatial import distance\n",
    "\n",
    "# 定义点列表，假设 points 是给定的点集\n",
    "\n",
    "# 找到端点的函数\n",
    "def find_endpoints(points, threshold=1.5):\n",
    "    endpoints = []\n",
    "    for i, point in enumerate(points):\n",
    "        # 计算当前点与其他点的距离\n",
    "        distances = distance.cdist([point], points, 'euclidean')\n",
    "        # 统计在阈值范围内的邻居数\n",
    "        neighbors = np.sum(distances < threshold)\n",
    "        if neighbors <= 1:  # 如果邻居数为1或2，则视为端点\n",
    "            endpoints.append(tuple(point))\n",
    "    return endpoints\n",
    "\n",
    "# 找到端点\n",
    "endpoints = find_endpoints(points, 2)\n",
    "print(\"端点: \", endpoints)"
   ]
  },
  {
   "cell_type": "code",
   "execution_count": null,
   "metadata": {},
   "outputs": [
    {
     "data": {
      "image/png": "[encoded data removed]",
      "text/plain": [
       "<Figure size 500x500 with 1 Axes>"
      ]
     },
     "metadata": {},
     "output_type": "display_data"
    }
   ],
   "source": [
    "# draw endpoints\n",
    "def draw_points(image, points):\n",
    "    plt.figure(figsize=(5, 5))\n",
    "    plt.imshow(image, cmap='gray')\n",
    "    plt.scatter([p[1] for p in points], [p[0] for p in points], c='r', s=10)\n",
    "    plt.show()\n",
    "\n",
    "draw_points(skeleton, endpoints)"
   ]
  },
  {
   "cell_type": "code",
   "execution_count": null,
   "metadata": {},
   "outputs": [],
   "source": []
  }
 ],
 "metadata": {
  "kernelspec": {
   "display_name": "base",
   "language": "python",
   "name": "python3"
  },
  "language_info": {
   "codemirror_mode": {
    "name": "ipython",
    "version": 3
   },
   "file_extension": ".py",
   "mimetype": "text/x-python",
   "name": "python",
   "nbconvert_exporter": "python",
   "pygments_lexer": "ipython3",
   "version": "3.12.1"
  }
 },
 "nbformat": 4,
 "nbformat_minor": 2
}
